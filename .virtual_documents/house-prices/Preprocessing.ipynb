import pandas as pd

from copy import copy
from sklearn.preprocessing import LabelEncoder


train_data = pd.read_csv('data/original/train.csv')
ids = train_data["Id"]
target = train_data["SalePrice"]
train_data.drop(["Id", "SalePrice"], axis=1, inplace=True)
test_data = pd.read_csv('data/original/test.csv')


train_data.head()


train_data["PoolQC"].value_counts()


train_data["Fence"].value_counts()


train_data["MiscFeature"].value_counts()


def data_encoder(data):
    """ 
        This function receives a pandas dataframe and returns it's categorical 
        features Label Encoded by the LabelEncoder class from Scikit Learn 
        
        Inputs:
            data: A pandas DataFrame
        Outputs:
            encoded_data: A copy from the DataFrame with it's categorical features
            label encoded. 
    """
    
    encoded_data = copy(data)
    le = LabelEncoder()
    cat_features = encoded_data.select_dtypes(include='object').columns
    for i in cat_features:
        encoded_data[i] = le.fit_transform(encoded_data[i]) 
    
    return encoded_data


encoded_cat = data_encoder(train_data)


encoded_cat.head()


ids


target



