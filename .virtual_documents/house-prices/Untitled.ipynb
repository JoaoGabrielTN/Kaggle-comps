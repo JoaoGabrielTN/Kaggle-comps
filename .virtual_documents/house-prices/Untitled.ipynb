import pandas as pd


train_data = pd.read_csv('data/original/train.csv')
test_data = pd.read_csv('data/original/test.csv')


train_data.head()


train_data["PoolQC"].value_counts()


train_data["Fence"].value_counts()


train_data["MiscFeature"].value_counts()


from sklearn.preprocessing import LabelEncoder
from copy import copy

def data_encoder(data):
    """ 
        This function receives a pandas dataframe and returns it's categorical 
        features Label Encoded by the LabelEncoder class from Scikit Learn 
        
        Inputs:
            data: A pandas DataFrame
        Outputs:
            encoded_data: A copy from the DataFrame with it's categorical features
            label encoded. 
    """
    
    encoded_data = copy(data)
    le = LabelEncoder()
    cat_features = encoded_data.select_dtypes(include='object').columns
    for i in cat_features:
        encoded_data[i] = le.fit_transform(encoded_data[i]) 
    
    return encoded_data


encoded_cat = data_encoder(train_data)


encoded_cat.head()


filtered_data = 
