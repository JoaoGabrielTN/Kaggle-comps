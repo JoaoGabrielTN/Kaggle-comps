{
 "cells": [
  {
   "cell_type": "code",
   "execution_count": 2,
   "id": "bd29049c-0bf7-4744-876f-106f49b958d6",
   "metadata": {},
   "outputs": [],
   "source": [
    "import numpy as np\n",
    "import torch\n",
    "from torch.utils.data import Dataset\n",
    "from torchvision import datasets\n",
    "from torchvision.transforms import ToTensor\n",
    "import matplotlib.pyplot as plt\n",
    "from PIL import Image\n",
    "\n",
    "from typing import Tuple"
   ]
  },
  {
   "cell_type": "code",
   "execution_count": 3,
   "id": "86240251-19d9-4951-af83-885cf5f2eb37",
   "metadata": {},
   "outputs": [],
   "source": [
    "import os\n",
    "import pandas as pd\n",
    "from torchvision.io import read_image\n",
    "\n",
    "class ImageCSVLoader(Dataset):\n",
    "    def __init__(self, data, rshape: tuple(), transform=None, target_transform=None):\n",
    "        self.data = pd.read_csv(data)\n",
    "        self.rshape = rshape\n",
    "        self.transform = transform\n",
    "        self.target_transform = target_transform\n",
    "\n",
    "    def __len__(self):\n",
    "        return len(self.data)\n",
    "\n",
    "    def __getitem__(self, idx):\n",
    "        label = self.data.iloc[idx, 0]                                  # line: idx, col: 0. (It assumes the label is on the first column)\n",
    "        pixels = self.data.iloc[idx, 1:].astype(np.uint8)               # read pixels as uint8 (0, 255)\n",
    "        image = Image.fromarray(pixels.values.reshape(self.rshape))     # reshape the pixels as an 28x28 Image \n",
    "        if self.transform:                                              # apply transformation on data (if has any)\n",
    "            image = self.transform(image)                          \n",
    "        if self.target_transform:                                       # apply target transformation on label (if has any)\n",
    "            label = self.target_transform(label)\n",
    "        return image, label\n"
   ]
  },
  {
   "cell_type": "code",
   "execution_count": 4,
   "id": "8e709be0-fa78-4810-8d5e-4c122100d623",
   "metadata": {},
   "outputs": [],
   "source": [
    "dataset =ImageCSVLoader('data/original/train.csv', (28, 28))"
   ]
  },
  {
   "cell_type": "code",
   "execution_count": 6,
   "id": "449fb658-d0cf-4aa4-a0c4-d44402ccbe47",
   "metadata": {},
   "outputs": [
    {
     "data": {
      "image/png": "[encoded data removed]",
      "text/plain": [
       "<Figure size 800x800 with 9 Axes>"
      ]
     },
     "metadata": {},
     "output_type": "display_data"
    }
   ],
   "source": [
    "figure = plt.figure(figsize=(8, 8))\n",
    "rows = 3\n",
    "cols = 3\n",
    "for i in range(1, cols * rows * 1 + 1):\n",
    "    randidx = torch.randint(len(dataset), size=(1,)).item()\n",
    "    img, label = dataset[randidx]\n",
    "    figure.add_subplot(rows, cols, i)\n",
    "    plt.title(label)\n",
    "    plt.axis(\"off\")\n",
    "    plt.imshow(img, cmap=\"gray\")\n",
    "plt.show()"
   ]
  },
  {
   "cell_type": "code",
   "execution_count": null,
   "id": "a1f457c9-1016-40cf-b7f1-15ce2a5b901d",
   "metadata": {},
   "outputs": [],
   "source": []
  }
 ],
 "metadata": {
  "kernelspec": {
   "display_name": "Python 3 (ipykernel)",
   "language": "python",
   "name": "python3"
  },
  "language_info": {
   "codemirror_mode": {
    "name": "ipython",
    "version": 3
   },
   "file_extension": ".py",
   "mimetype": "text/x-python",
   "name": "python",
   "nbconvert_exporter": "python",
   "pygments_lexer": "ipython3",
   "version": "3.12.4"
  }
 },
 "nbformat": 4,
 "nbformat_minor": 5
}
