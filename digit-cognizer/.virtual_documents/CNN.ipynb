import numpy as np
import torch
from torch.utils.data import Dataset
from torchvision import datasets
from torchvision.transforms import ToTensor
import matplotlib.pyplot as plt
from PIL import Image

from typing import Tuple


import os
import pandas as pd
from torchvision.io import read_image

class ImageCSVLoader(Dataset):
    def __init__(self, data, rshape: tuple(), transform=None, target_transform=None):
        self.data = pd.read_csv(data)
        self.rshape = rshape
        self.transform = transform
        self.target_transform = target_transform

    def __len__(self):
        return len(self.data)

    def __getitem__(self, idx):
        label = self.data.iloc[idx, 0]                                  # line: idx, col: 0. (It assumes the label is on the first column)
        pixels = self.data.iloc[idx, 1:].astype(np.uint8)               # read pixels as uint8 (0, 255)
        image = Image.fromarray(pixels.values.reshape(self.rshape))     # reshape the pixels as an 28x28 Image 
        if self.transform:                                              # apply transformation on data (if has any)
            image = self.transform(image)                          
        if self.target_transform:                                       # apply target transformation on label (if has any)
            label = self.target_transform(label)
        return image, label



dataset =ImageCSVLoader('data/original/train.csv', (28, 28))


figure = plt.figure(figsize=(8, 8))
rows = 3
cols = 3
for i in range(1, cols * rows * 1 + 1):
    randidx = torch.randint(len(dataset), size=(1,)).item()
    img, label = dataset[randidx]
    figure.add_subplot(rows, cols, i)
    plt.title(label)
    plt.axis("off")
    plt.imshow(img, cmap="gray")
plt.show()



