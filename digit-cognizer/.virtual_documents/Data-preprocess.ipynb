


import sklearn
import pandas as pd
import copy


train_data = pd.read_csv('data/train.csv')
train_labels = train_data['label']
train_data = train_data.drop('label', axis=1)

test_data = pd.read_csv('data/test.csv')


ids = range(1, 28001)





train_data.head()


train_data.columns


train_data.shape


train_data.iloc[0].max()





from sklearn.decomposition import PCA


pca = PCA(n_components = 0.95)
scaler = StandardScaler()


X_train = train_data/255
X_test = test_data/255


pca.fit(X_train)


X_train = pca.transform(X_train)
X_test = pca.transform(X_test)


pca.components_.T[:, 0]


pca.explained_variance_ratio_


print("train: ", X_train.shape)
print("test: ", X_test.shape)





from sklearn.ensemble import RandomForestClassifier
from sklearn.model_selection import GridSearchCV
from sklearn.metrics import accuracy_score, recall_score, f1_score, roc_auc_score, make_scorer


grid = {
 'max_depth': [18, 20, 30 , 40], 
 'max_features': ['log2', 'sqrt'],
 'min_samples_leaf': [1, 2],
 'min_samples_split': [2, 5],
 'n_estimators': [350, 400, 450]
} 





rfc = RandomForestClassifier(max_depth=18, n_estimators=350)
rfc.fit(X_train, train_labels)


predictions = rfc.predict(X_test)
predictions





results = {
    'ImageId': ids,
    'Label': predictions,
}
submit = pd.DataFrame(results)
submit


submit.to_csv('submit.csv', index=False)
