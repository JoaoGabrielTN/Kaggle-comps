


import sklearn
import pandas as pd
import copy
import joblib


train_data = pd.read_csv('data/original/train.csv')
train_labels = train_data['label']
train_data = train_data.drop('label', axis=1)

test_data = pd.read_csv('data/original/test.csv')


ids = range(1, 28001)





train_data.head()


train_data.columns


train_data.shape


train_data.iloc[0].max()





from sklearn.decomposition import PCA


pca = PCA(n_components = 0.95)


X_train = train_data/255
X_test = test_data/255


pca.fit(X_train)


X_train = pca.transform(X_train)
X_test = pca.transform(X_test)


print("train: ", X_train.shape)
print("test: ", X_test.shape)





from sklearn.ensemble import RandomForestClassifier
from sklearn.model_selection import GridSearchCV
from sklearn.metrics import f1_score, make_scorer


grid = {
 'max_depth': [22, 24, 26], # 'max_depth': [16, 18, 20], 
 'n_estimators': [450, 500, 550], # 'n_estimators': [300, 350, 400],
} 


my_scorer = make_scorer(f1_score, greater_is_better=True, average='micro')
model = GridSearchCV(estimator = RandomForestClassifier(), param_grid = grid, cv = 3, verbose=2, scoring=my_scorer)


model.fit(X_train, train_labels)


print(model.best_params_)
print(model.best_estimator_.score(X_train, train_labels))
model.cv_results_


rfc = RandomForestClassifier(max_depth=24, n_estimators=550)
rfc.fit(X_train, train_labels)


predictions = rfc.predict(X_test)
predictions





joblib.dump(model, '/home/hyades/grid.pkl')
joblib.dump(rfc, '/home/hyades/model.pkl')


results = {
    'ImageId': ids,
    'Label': predictions,
}
submit = pd.DataFrame(results)
submit


submit.to_csv('submit.csv', index=False)



